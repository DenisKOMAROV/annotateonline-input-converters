{
 "cells": [
  {
   "cell_type": "markdown",
   "metadata": {},
   "source": [
    "### For that case if you need to download original images from coco dataset\n",
    "#### This function works for all COCO tasks "
   ]
  },
  {
   "cell_type": "code",
   "execution_count": 7,
   "metadata": {},
   "outputs": [
    {
     "name": "stdout",
     "output_type": "stream",
     "text": [
      "downloading:  http://images.cocodataset.org/val2017/000000233771.jpg\n",
      "downloading:  http://images.cocodataset.org/val2017/000000031269.jpg\n",
      "downloading:  http://images.cocodataset.org/val2017/000000378605.jpg\n",
      "downloading:  http://images.cocodataset.org/val2017/000000411530.jpg\n"
     ]
    }
   ],
   "source": [
    "images = {\"images\": [\n",
    "    {\n",
    "      \"license\": 2,\n",
    "      \"file_name\": \"000000233771.jpg\",\n",
    "      \"coco_url\": \"http://images.cocodataset.org/val2017/000000233771.jpg\",\n",
    "      \"height\": 640,\n",
    "      \"width\": 640,\n",
    "      \"date_captured\": \"2013-11-18 05:20:56\",\n",
    "      \"flickr_url\": \"http://farm2.staticflickr.com/1304/4660238513_56f3b73555_z.jpg\",\n",
    "      \"id\": 233771\n",
    "    },\n",
    "    {\n",
    "      \"license\": 1,\n",
    "      \"file_name\": \"000000031269.jpg\",\n",
    "      \"coco_url\": \"http://images.cocodataset.org/val2017/000000031269.jpg\",\n",
    "      \"height\": 480,\n",
    "      \"width\": 640,\n",
    "      \"date_captured\": \"2013-11-18 21:26:03\",\n",
    "      \"flickr_url\": \"http://farm2.staticflickr.com/1098/1250662377_e9927a2c9d_z.jpg\",\n",
    "      \"id\": 31269\n",
    "    },\n",
    "    {\n",
    "      \"license\": 3,\n",
    "      \"file_name\": \"000000378605.jpg\",\n",
    "      \"coco_url\": \"http://images.cocodataset.org/val2017/000000378605.jpg\",\n",
    "      \"height\": 640,\n",
    "      \"width\": 426,\n",
    "      \"date_captured\": \"2013-11-20 16:46:32\",\n",
    "      \"flickr_url\": \"http://farm3.staticflickr.com/2695/4218308004_67137a2e53_z.jpg\",\n",
    "      \"id\": 378605\n",
    "    },\n",
    "    {\n",
    "      \"license\": 3,\n",
    "      \"file_name\": \"000000411530.jpg\",\n",
    "      \"coco_url\": \"http://images.cocodataset.org/val2017/000000411530.jpg\",\n",
    "      \"height\": 480,\n",
    "      \"width\": 640,\n",
    "      \"date_captured\": \"2013-11-19 18:24:42\",\n",
    "      \"flickr_url\": \"http://farm4.staticflickr.com/3436/3398310051_3016253fa2_z.jpg\",\n",
    "      \"id\": 411530\n",
    "    }\n",
    "  ]}\n",
    "import requests\n",
    "import os\n",
    "main_dir = './Projects/COCO' # on coco_to_sa.py this directory is the directory, which contains test COCO JSON and there's no need to initialize it \n",
    "\n",
    "def image_downloader(url):\n",
    "    file_name_start_pos = url.rfind(\"/\") + 1\n",
    "    file_name = url[file_name_start_pos:]\n",
    "    print(\"downloading: \", url)\n",
    "    r = requests.get(url, stream=True)\n",
    "    with open(os.path.join(main_dir, file_name), 'wb') as f:\n",
    "        f.write(r.content)\n",
    "\n",
    "for image in images['images']):\n",
    "    image_downloader(image['coco_url'])\n",
    "    \n",
    "# in case if there's a conflict with image names you can use following version of function\n",
    "\n",
    "# def image_downloader(url, file_name):\n",
    "#     print(\"downloading: \", url)\n",
    "#     r = requests.get(url, stream=True)\n",
    "#     with open(os.path.join(main_dir, file_name), 'wb') as f:\n",
    "#         f.write(r.content)\n",
    "\n",
    "# for image in images['images']:\n",
    "#     image_downloader(image['coco_url'], image['file_name'])\n"
   ]
  },
  {
   "cell_type": "code",
   "execution_count": null,
   "metadata": {},
   "outputs": [],
   "source": []
  }
 ],
 "metadata": {
  "kernelspec": {
   "display_name": "Python 3",
   "language": "python",
   "name": "python3"
  },
  "language_info": {
   "codemirror_mode": {
    "name": "ipython",
    "version": 3
   },
   "file_extension": ".py",
   "mimetype": "text/x-python",
   "name": "python",
   "nbconvert_exporter": "python",
   "pygments_lexer": "ipython3",
   "version": "3.7.3"
  }
 },
 "nbformat": 4,
 "nbformat_minor": 2
}
